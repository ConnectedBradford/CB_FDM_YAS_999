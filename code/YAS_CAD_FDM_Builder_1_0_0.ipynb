{
 "cells": [
  {
   "cell_type": "markdown",
   "id": "d3e55440-899f-47fa-a7ac-af48b54648db",
   "metadata": {},
   "source": [
    "# YAS CAD FDM Builder\n",
    "\n",
    "This Jupyter notebook will convert the source tables for the Yorkshire Ambulance Service NHS Trust (YAS) computer aided despatch data into a single FDM table"
   ]
  },
  {
   "cell_type": "code",
   "execution_count": null,
   "id": "e9c7058a-00c8-43b2-a1da-17d76189d105",
   "metadata": {},
   "outputs": [],
   "source": [
    "from FDMBuilder.FDMTable import *\n",
    "from FDMBuilder.FDMDataset import *\n",
    "from FDMBuilder.testing_helpers import *\n",
    "\n",
    "DATASET_ID = \"CY_FDM_YAS_999_v1\"\n",
    "\n",
    "\n",
    "# Leave this bit alone!\n",
    "if check_dataset_exists(DATASET_ID):\n",
    "    clear_dataset(DATASET_ID)\n",
    "    print(\"Good to go!\")\n",
    "else:\n",
    "    print(\"#\" * 33 + \" PROBLEM!! \" + 33 * \"#\" + \"\\n\")\n",
    "    print(\"Something doesn't look right. Check you spelled everything correctly,\\n\" \n",
    "          \"your dataset has been created in GCP, and you have the right permisssions\\n\")\n",
    "    print(\"#\" * 80)"
   ]
  },
  {
   "cell_type": "markdown",
   "id": "a968b109-b9a4-484d-925b-e61fbd8b696c",
   "metadata": {},
   "source": [
    "## Copy tables and wrangle\n",
    "\n",
    "There are currently two tables 'src_YAS_999' and 'src_YAS_CAD' that need to be combined. Duplicated rows and ResponseTypes of 'Daily Log' need to be removed."
   ]
  },
  {
   "cell_type": "code",
   "execution_count": null,
   "id": "e841e84e-c3c5-496b-88e5-fb50d11975a8",
   "metadata": {},
   "outputs": [],
   "source": [
    "cad_1_df = FDMTable(\n",
    "    source_table_id = \"CY_STAGING_DATABASE.src_YAS_CAD\",\n",
    "    dataset_id=DATASET_ID\n",
    ")\n",
    "\n",
    "cad_2_df = FDMTable(\n",
    "    source_table_id = \"CY_STAGING_DATABASE.src_YAS_999\",\n",
    "    dataset_id=DATASET_ID\n",
    ")"
   ]
  },
  {
   "cell_type": "markdown",
   "id": "6464af08-6c1b-4fb7-83fd-37a9637b99c9",
   "metadata": {},
   "source": [
    "Copy tables to Dataset folder"
   ]
  },
  {
   "cell_type": "code",
   "execution_count": null,
   "id": "056a58b9-d99e-4340-a2d5-cce259ee2c6b",
   "metadata": {},
   "outputs": [],
   "source": [
    "cad_1_df.copy_table_to_dataset()\n",
    "cad_2_df.copy_table_to_dataset()"
   ]
  },
  {
   "cell_type": "markdown",
   "id": "0adea5f7-ad0d-4302-9f5d-d392d5a438c1",
   "metadata": {},
   "source": [
    "src_YAS_CAD has 42 columns, whereas src_YAS_999 has 50. We need to add these columns before the data can be joined."
   ]
  },
  {
   "cell_type": "code",
   "execution_count": null,
   "id": "b4f48faa-d318-4eac-a34a-e90fa70e58be",
   "metadata": {},
   "outputs": [],
   "source": [
    "%%bigquery\n",
    "ALTER TABLE `CY_FDM_YAS_999_v1.src_YAS_CAD`\n",
    "ADD COLUMN IF NOT EXISTS DespatchCode2 STRING,\n",
    "ADD COLUMN IF NOT EXISTS GeoZonePostCode STRING,\n",
    "ADD COLUMN IF NOT EXISTS GovtStdTOC STRING,\n",
    "ADD COLUMN IF NOT EXISTS PatientsThisResource2 STRING,\n",
    "ADD COLUMN IF NOT EXISTS ResourceType2 STRING,\n",
    "ADD COLUMN IF NOT EXISTS TimeCallCommenced STRING;"
   ]
  },
  {
   "cell_type": "markdown",
   "id": "6de87e22-a951-4425-99e5-e790f03eea22",
   "metadata": {},
   "source": [
    "Create a new CAD table which contains all rows from both tables."
   ]
  },
  {
   "cell_type": "code",
   "execution_count": null,
   "id": "42de284b-a4df-4a4c-8a34-ac6e07312251",
   "metadata": {},
   "outputs": [],
   "source": [
    "%%bigquery\n",
    "CREATE TABLE `CY_FDM_YAS_999_v1.CAD` AS (\n",
    "SELECT DISTINCT * FROM\n",
    "    (\n",
    "        SELECT *\n",
    "        FROM `CY_FDM_YAS_999_v1.src_YAS_999`\n",
    "        WHERE ResourceType != 'Daily Log'\n",
    "        #LIMIT 1000\n",
    "    )\n",
    "    UNION ALL\n",
    "    (\n",
    "        SELECT *\n",
    "        FROM `CY_FDM_YAS_999_v1.src_YAS_CAD`\n",
    "        WHERE ResourceType != 'Daily Log'\n",
    "        #LIMIT 1000\n",
    "    )\n",
    ")"
   ]
  },
  {
   "cell_type": "markdown",
   "id": "a403d5de-1b9e-4e93-9b4a-73165c5044c4",
   "metadata": {},
   "source": [
    "There is some variability in the presentation of dates/times in the CAD data. The WrangleDateTime function attempts to determine the type based on string length."
   ]
  },
  {
   "cell_type": "code",
   "execution_count": null,
   "id": "ab421201-1b2c-4d91-8934-6baf8fc06e97",
   "metadata": {},
   "outputs": [],
   "source": [
    "%%bigquery\n",
    "CREATE TEMP FUNCTION WrangleDateTime(x STRING)\n",
    "RETURNS DATETIME\n",
    "AS (\n",
    "    CASE LENGTH(x)\n",
    "        WHEN 19 THEN SAFE.PARSE_DATETIME(\"%d/%m/%Y %H:%M:%S\", x)\n",
    "        WHEN 16 THEN SAFE.PARSE_DATETIME(\"%d/%m/%Y %H:%M\", x)\n",
    "        WHEN 8 THEN SAFE.PARSE_DATETIME(\"%H:%M:%S\", x)\n",
    "        WHEN 5 THEN SAFE.PARSE_DATETIME(\"%H:%M\", x)\n",
    "        ELSE NULL\n",
    "        END\n",
    ");\n",
    "\n",
    "CREATE TABLE `CY_FDM_YAS_999_v1.YAS_CAD` AS (\n",
    "\n",
    "    SELECT CallNumber,\n",
    "        CCG,\n",
    "        GeoZonePostCode,\n",
    "        TypeOfCall,\n",
    "        WrangleDateTime(Date_Time_forPerf) AS Date_Time_forPerf_dt,\n",
    "        # Technically, the call connect time, TimeStampT0, is the earliest call time recorded. However\n",
    "        # it is not always captured. If that is the case, fallback to using the incident time, Date_Time_forPerf\n",
    "        IF(WrangleDateTime(TimeStampT0) IS NULL OR EXTRACT(YEAR FROM WrangleDateTime(TimeStampT0)) = 1970, \n",
    "               WrangleDateTime(Date_Time_forPerf),\n",
    "               WrangleDateTime(TimeStampT0)\n",
    "          ) AS Start_dt,\n",
    "        WrangleDateTime(TimeStampT0) AS TimeStampT0_dt,\n",
    "        WrangleDateTime(TimeStampT1) AS TimeStampT1_dt,\n",
    "        WrangleDateTime(TimeStampT2) AS TimeStampT2_dt,\n",
    "        WrangleDateTime(TimeStampT3) AS TimeStampT3_dt,\n",
    "        WrangleDateTime(TimeStampT4) AS TimeStampT4_dt,\n",
    "        WrangleDateTime(TimeOnMDT) AS TimeOnMDT_dt,\n",
    "        WrangleDateTime(TimeAllocated) AS TimeAllocated_dt,\n",
    "        WrangleDateTime(TimeMobile) AS TimeMobile_dt,\n",
    "        WrangleDateTime(TimeAtScene) AS TimeAtScene_dt,\n",
    "        WrangleDateTime(TimeLeftScene) AS TimeLeftScene_dt,\n",
    "        WrangleDateTime(TimeAtDest) AS TimeAtDest_dt,\n",
    "        WrangleDateTime(TimeHandover) AS TimeHandover_dt,\n",
    "        WrangleDateTime(TimeClear) AS TimeClear_dt,\n",
    "        WrangleDateTime(TimeAVLMove) AS TimeAVLMove_dt,\n",
    "        WrangleDateTime(PerfBestResp) AS PerfBestResp_dt,\n",
    "        WrangleDateTime(PerfBestConvResp) AS PerfBestConvResp_dt,\n",
    "        WrangleDateTime(PerfBestLatePatSide) AS PerfBestLatePatSide,\n",
    "        HospitalAttended,\n",
    "        Callsign,\n",
    "        homeDPOnAlloc,\n",
    "        GovtStdTOC,\n",
    "        # It appears during import some variables are duplicated. On odd occassions, DespatchCode is \n",
    "        # NULL but DespatchCode2 has a value. Same for ResourceType, PatientsThisResource\n",
    "        COALESCE(DespatchCode, DespatchCode2) as DispatchCode,\n",
    "        COALESCE(ResourceType, ResourceType2) as Resource,\n",
    "        CurrentDPOnAlloc,\n",
    "        MainPatientAge,\n",
    "        ChiefComplaint,\n",
    "        MainPatientSex,\n",
    "        methodofcall,\n",
    "        AuthorisingDoctor,\n",
    "        AuthorisingPractice,\n",
    "        JourneyType,\n",
    "        COALESCE(PatientsThisResource, PatientsThisResource2) as NumberOfPatients,\n",
    "        MainPatientMobility,\n",
    "        Priority,\n",
    "        PosnOfResourceOnCall,\n",
    "        HCPEmergency,\n",
    "        HCPResponseMinutes,\n",
    "        ClinicAttended,\n",
    "        NHS_Number AS digest,\n",
    "        PickupLocationType\n",
    "\n",
    "    FROM `CY_FDM_YAS_999_v1.CAD`\n",
    "    # LIMIT 50\n",
    "\n",
    ")\n"
   ]
  },
  {
   "cell_type": "code",
   "execution_count": null,
   "id": "1c570ee5-553d-4e09-95d1-15f26df5e0cc",
   "metadata": {},
   "outputs": [],
   "source": [
    "cad_df = FDMTable(\n",
    "    source_table_id = \"CY_FDM_YAS_999_v1.YAS_CAD\",\n",
    "    dataset_id=DATASET_ID\n",
    ")"
   ]
  },
  {
   "cell_type": "code",
   "execution_count": null,
   "id": "3336ca35-4354-465e-ada9-0c7e3e036f9a",
   "metadata": {},
   "outputs": [],
   "source": [
    "cad_df.quick_build(\n",
    "    fdm_start_date_cols=\"Start_dt\",\n",
    "    fdm_start_date_format=\"YMD\",\n",
    "    fdm_end_date_cols=\"TimeClear_dt\",\n",
    "    fdm_end_date_format=\"YMD\"\n",
    ")"
   ]
  },
  {
   "cell_type": "markdown",
   "id": "efa7d062-b833-47af-81ae-a540502f3da2",
   "metadata": {},
   "source": [
    "Drop tables that are no longer required"
   ]
  },
  {
   "cell_type": "code",
   "execution_count": null,
   "id": "fea622e7-676a-4efe-a704-acbbd898ec2c",
   "metadata": {},
   "outputs": [],
   "source": [
    "%%bigquery\n",
    "DROP TABLE CY_FDM_YAS_999_v1.CAD;\n",
    "DROP TABLE CY_FDM_YAS_999_v1.src_YAS_999;\n",
    "DROP TABLE CY_FDM_YAS_999_v1.src_YAS_CAD;"
   ]
  },
  {
   "cell_type": "code",
   "execution_count": null,
   "id": "f84109f7-ebb9-49ae-be47-03a19f9d69e8",
   "metadata": {},
   "outputs": [],
   "source": [
    "dataset = FDMDataset(\n",
    "    dataset_id = DATASET_ID\n",
    ")\n",
    "dataset.build()"
   ]
  },
  {
   "cell_type": "markdown",
   "id": "b7c920d8-f2d4-463e-8fac-d9d70335972a",
   "metadata": {},
   "source": [
    "Add CAD_descriptor to data dictionary table"
   ]
  },
  {
   "cell_type": "code",
   "execution_count": null,
   "id": "c60af0b5-2cf0-480c-81b1-98f6378d958f",
   "metadata": {},
   "outputs": [],
   "source": [
    "%%bigquery\n",
    "\n",
    "CREATE TABLE `CY_FDM_YAS_999_v1.CAD_dict` (\n",
    "    variable_name STRING,\n",
    "    CAD_descriptor STRING\n",
    ")"
   ]
  },
  {
   "cell_type": "code",
   "execution_count": null,
   "id": "70c728b2-e147-4b3c-8293-1b9b01aa8e1f",
   "metadata": {},
   "outputs": [],
   "source": [
    "%%bigquery\n",
    "\n",
    "INSERT `CY_FDM_YAS_999_v1.CAD_dict` (variable_name, CAD_descriptor)\n",
    "VALUES('person_id', \"Unique identifier for patient\"),\n",
    "('CallNumber', \"Unique incident identifier (note can be multiple entries per incident if more than one ambulance sent to scene)\"),\n",
    "('CCG', \"Patient's primary care Clinical Commisioning Group name\"),\n",
    "('GeoZonePostCode', \"Outbound portion of incident postcode\"),\n",
    "('TypeOfCall', \"Call type e.g. emergency\"),\n",
    "('Date_Time_forPerf_dt', \"Date time of 999 call for performance ('clock start')\"),\n",
    "('Start_dt', \"Either date time of 999 call when connected to the ambulance service from the BT operator or Date_Time_forPerf_dt if this date time is missing\"),\n",
    "('TimeStampT0_dt', \"Time call put through to ambulance service from BT operator\"),\n",
    "('TimeStampT1_dt', \"Time call picked up by ambulance service call handler\"),\n",
    "('TimeStampT2_dt', \"Time address of incident verified\"),\n",
    "('TimeStampT3_dt', \"Time problem/reason for call established\"),\n",
    "('TimeStampT4_dt', \"Time chief complaint/symptom group established\"),\n",
    "('TimeOnMDT_dt', \"Time incident received on ambulance mobile data terminal\"),\n",
    "('TimeAllocated_dt', \"Time ambulance resource allocated to 999 call\"),\n",
    "('TimeMobile_dt', \"Time ambulance mobile to incident\"),\n",
    "('TimeAtScene_dt', \"Time ambulance arrived on scene of incident\"),\n",
    "('TimeLeftScene_dt', \"Time ambulance left scene of incident\"),\n",
    "('TimeAtDest_dt', \"Time ambulance arrived at destination (usually a hospital)\"),\n",
    "('TimeHandover_dt', \"Time patient handed over by ambulance staff to hospital/destination staff\"),\n",
    "('TimeClear_dt', \"Time ambulance clear of incident and available to respond to further emergency calls\"),\n",
    "('TimeAVLMove_dt', \"Time from ambulance allocated to incident to ambulance detected as being mobile to incident\"),\n",
    "('PerfBestResp_dt', \"Best response time for any resource sent to incident\"),\n",
    "('PerfBestConvResp_dt', \"Best response time for any conveying resources\"),\n",
    "('PerfBestLatePatSide', \"Best lateness time for any resource reaching the patient's side\"),\n",
    "('HospitalAttended', \"Name of destination hospital\"),\n",
    "('Callsign', \"Callsign of ambulance resource\"),\n",
    "('homeDPOnAlloc', \"Home dispatch point of ambulance when allocated to call i.e. ambulance station resource from not current location\"),\n",
    "('GovtStdTOC', \"999 call triage category\"),\n",
    "('DispatchCode', \"Advanced Medical Priority Despatch Code allocated to call following call triage\"),\n",
    "('Resource', \"Type of resource e.g. ambulance\"),\n",
    "('CurrentDPOnAlloc', \"Current despatch point of ambulance upon allocation to call\"),\n",
    "('MainPatientAge', \"Patient age in years\"),\n",
    "('ChiefComplaint', \"High-level triage description (from AMPDS or 111 triage system)\"),\n",
    "('MainPatientSex', \"Patient sex\"),\n",
    "('methodofcall', \"Where call has originated from e.g. 999 call or inter-facility\"),\n",
    "('AuthorisingDoctor', \"If appropriate authorising GP for 999 call\"),\n",
    "('AuthorisingPractice', \"If appropriate authorising GP's primary care practice\"),\n",
    "('JourneyType', \"Journey type e.g. Emergency Admission\"),\n",
    "('NumberOfPatients', \"Number of patients on ambulance\"),\n",
    "('MainPatientMobility', \"Mobility of patient/requirement for aids such as carry chair or stretcher\"),\n",
    "('Priority', \"Call priority number\"),\n",
    "('PosnOfResourceOnCall', \"Position of resource on call. If multiplel resources sent identification of order of allocation for this resource\"),\n",
    "('HCPEmergency', \"Call identified as a healthcare professional emergency i.e. an HCP made the 999 call for a patient\"),\n",
    "('HCPResponseMinutes', \"Response time specified by the HCP for this emergency\"),\n",
    "('ClinicAttended', \"Desintation department or ward\"),\n",
    "('digest', \"Pseudonymised NHS number - used as lookup for person_id\"),\n",
    "('PickupLocationType', \"Incident location type. Pre-specified list e.g.. care home or railway station\"),\n",
    "('fdm_start_date', \"FDM datetime for start of record. Same as Start_dt\"),\n",
    "('fdm_end_date', \"FDM datetime for end of record. Same as TimeClear_dt\")"
   ]
  },
  {
   "cell_type": "code",
   "execution_count": null,
   "id": "2642a31e-03a6-4a16-bd01-6ab952369a52",
   "metadata": {},
   "outputs": [],
   "source": [
    "Add an additional column, CAD_descriptor to the data dictionary table...provides an explanatino of what the field actually relates to."
   ]
  },
  {
   "cell_type": "code",
   "execution_count": null,
   "id": "fa38a594-fd6a-4dab-be70-7567667d9d22",
   "metadata": {},
   "outputs": [],
   "source": [
    "%%bigquery\n",
    "\n",
    "ALTER TABLE `CY_FDM_YAS_999_v1.YAS_CAD_data_dict`\n",
    "ADD COLUMN CAD_descriptor STRING;\n",
    "\n",
    "UPDATE `CY_FDM_YAS_999_v1.YAS_CAD_data_dict` A \n",
    "SET A.CAD_descriptor = B.CAD_descriptor\n",
    "FROM `CY_FDM_YAS_999_v1.CAD_dict` B\n",
    "WHERE A.variable_name = B.variable_name"
   ]
  },
  {
   "cell_type": "code",
   "execution_count": null,
   "id": "aca074f0-42df-43fa-b1b0-b4bf04e27745",
   "metadata": {},
   "outputs": [],
   "source": [
    "%%bigquery\n",
    "DROP TABLE CY_FDM_YAS_999_v1.CAD_dict;"
   ]
  },
  {
   "cell_type": "code",
   "execution_count": null,
   "id": "3ccb1005-2e05-4b06-9ea3-6da6121ca5fa",
   "metadata": {},
   "outputs": [],
   "source": [
    "Data quality checks"
   ]
  },
  {
   "cell_type": "code",
   "execution_count": null,
   "id": "f4079f6a-f8ba-47a0-8a8d-e848a80c4275",
   "metadata": {},
   "outputs": [],
   "source": [
    "%%bigquery\n",
    "SELECT fdm_problem, COUNT(*) FROM `CY_FDM_YAS_999_v1.YAS_CAD_fdm_problems` GROUP BY fdm_problem"
   ]
  },
  {
   "cell_type": "code",
   "execution_count": null,
   "id": "3f114393-82aa-4be4-8b9b-150497d05587",
   "metadata": {},
   "outputs": [],
   "source": [
    "%%bigquery\n",
    "SELECT fdm_problem, COUNT(*) FROM `CY_FDM_YAS_999_v1.YAS_CAD_fdm_problems` WHERE GeoZonePostCode LIKE 'BD%' GROUP BY fdm_problem"
   ]
  },
  {
   "cell_type": "code",
   "execution_count": null,
   "id": "6fdd7a59-1760-424d-9866-1332c7e59dff",
   "metadata": {},
   "outputs": [],
   "source": [
    "%%bigquery\n",
    "SELECT * FROM `CY_FDM_YAS_999_v1.YAS_CAD_fdm_problems` WHERE fdm_problem = 'fdm_end_date is before fdm_start_date' LIMIT 10"
   ]
  }
 ],
 "metadata": {
  "environment": {
   "kernel": "python3",
   "name": "r-cpu.4-1.m93",
   "type": "gcloud",
   "uri": "gcr.io/deeplearning-platform-release/r-cpu.4-1:m93"
  },
  "kernelspec": {
   "display_name": "Python 3",
   "language": "python",
   "name": "python3"
  },
  "language_info": {
   "codemirror_mode": {
    "name": "ipython",
    "version": 3
   },
   "file_extension": ".py",
   "mimetype": "text/x-python",
   "name": "python",
   "nbconvert_exporter": "python",
   "pygments_lexer": "ipython3",
   "version": "3.7.12"
  }
 },
 "nbformat": 4,
 "nbformat_minor": 5
}
